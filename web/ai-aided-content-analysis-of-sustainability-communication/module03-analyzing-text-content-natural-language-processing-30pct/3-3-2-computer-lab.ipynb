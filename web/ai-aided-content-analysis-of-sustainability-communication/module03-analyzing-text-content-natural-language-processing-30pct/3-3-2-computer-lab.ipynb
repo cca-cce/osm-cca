{
  "cells": [
    {
      "cell_type": "markdown",
      "metadata": {},
      "source": [
        "---\n",
        "title: \"module03-analyzing-text-content-natural-language-processing-30pct/3-3-2-computer-lab.qmd\"\n",
        "---\n",
        "\n",
        "## summarize and visualize data"
      ]
    },
    {
      "cell_type": "code",
      "metadata": {},
      "source": [
        "import pandas as pd\n",
        "import seaborn as sns\n",
        "import matplotlib.pyplot as plt\n",
        "import os\n",
        "\n",
        "# Load token_df from the TSV file\n",
        "input_file_path = '/content/osm-cca-nlp/csv/token_data.tsv'\n",
        "input_file_path = '/home/sol-nhl/rnd/d/quarto/osm-cca-nlp/csv/token_data.tsv'\n",
        "token_df = pd.read_csv(input_file_path, sep='\\t')\n",
        "\n",
        "# Filter the DataFrame to keep only rows where the part of speech is 'NOUN'\n",
        "noun_df = token_df[token_df['token_pos'] == 'NOUN']\n",
        "\n",
        "# Group by the lemma and count the occurrences of each lemma\n",
        "lemma_counts = noun_df['token_lemma'].value_counts().reset_index()\n",
        "\n",
        "# Rename the columns for clarity\n",
        "lemma_counts.columns = ['lemma', 'count']\n",
        "\n",
        "# Get the 20 most frequent lemmas\n",
        "top_lemmas = lemma_counts.head(20)\n",
        "\n",
        "# Plot the 20 most frequent nouns using Seaborn\n",
        "plt.figure(figsize=(10, 8))\n",
        "sns.barplot(x='count', y='lemma', data=top_lemmas, palette='viridis')\n",
        "plt.title('Top 20 Most Frequent Nouns')\n",
        "plt.xlabel('Count')\n",
        "plt.ylabel('Lemma')\n",
        "\n",
        "# Save the figure to a PNG file\n",
        "output_file_path = '/content/osm-cca-nlp/fig/token_noun.png'\n",
        "output_file_path = '/home/sol-nhl/rnd/d/quarto/osm-cca-nlp/fig/token_noun.png'\n",
        "plt.savefig(output_file_path)\n",
        "\n",
        "# Display the plot\n",
        "plt.show()"
      ],
      "execution_count": null,
      "outputs": []
    }
  ],
  "metadata": {
    "kernelspec": {
      "name": "python3",
      "language": "python",
      "display_name": "Python 3 (ipykernel)",
      "path": "/usr/local/share/jupyter/kernels/python3"
    }
  },
  "nbformat": 4,
  "nbformat_minor": 4
}