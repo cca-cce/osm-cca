{
  "cells": [
    {
      "cell_type": "markdown",
      "metadata": {},
      "source": [
        "---\n",
        "title: \"module02-introduction-to-low-code-python-programming-20pct/2-1-2-computer-lab.qmd\"\n",
        "---\n",
        "\n",
        "## [2-1-2-computer-lab.qmd](2-1-2-computer-lab.qmd)\n",
        "\n",
        "### walk-trough of google colab notebook user interface\n",
        "\n",
        "#### computer lab"
      ]
    },
    {
      "cell_type": "code",
      "metadata": {},
      "source": [
        "# this is a python code cell.. also called a \"code chunk\""
      ],
      "execution_count": null,
      "outputs": []
    },
    {
      "cell_type": "markdown",
      "metadata": {},
      "source": [
        "# annotations\n",
        "\n",
        "this is a markdown text cell used to annotate and describe the code cell below"
      ]
    },
    {
      "cell_type": "code",
      "metadata": {},
      "source": [
        "# this is a python comment explaining the code line below\n",
        "print(\"hello mooc :)\")"
      ],
      "execution_count": null,
      "outputs": []
    },
    {
      "cell_type": "markdown",
      "metadata": {},
      "source": [
        "# create cells\n"
      ]
    }
  ],
  "metadata": {
    "kernelspec": {
      "name": "python3",
      "language": "python",
      "display_name": "Python 3 (ipykernel)",
      "path": "/usr/local/share/jupyter/kernels/python3"
    }
  },
  "nbformat": 4,
  "nbformat_minor": 4
}