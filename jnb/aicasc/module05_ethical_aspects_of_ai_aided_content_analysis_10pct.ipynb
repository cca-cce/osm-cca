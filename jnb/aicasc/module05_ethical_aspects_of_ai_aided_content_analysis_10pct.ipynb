{
  "cells": [
    {
      "cell_type": "markdown",
      "metadata": {
        "id": "as3zaxEnJZRc"
      },
      "source": [
        "# 5-1-2: Analysis documentation and open science"
      ]
    },
    {
      "cell_type": "code",
      "metadata": {
        "colab": {
          "base_uri": "https://localhost:8080/",
          "height": 472
        },
        "id": "w0KbPr0rJZRf",
        "outputId": "4e436237-b60d-48f7-ff55-4af3a2c9fd28"
      },
      "source": [
        "import seaborn as sns\n",
        "sns.set_theme(style=\"ticks\", palette=\"pastel\")\n",
        "\n",
        "# Load the example tips dataset\n",
        "tips = sns.load_dataset(\"tips\")\n",
        "\n",
        "# Draw a nested boxplot to show bills by day and time\n",
        "sns.boxplot(x=\"day\", y=\"total_bill\",\n",
        "            hue=\"smoker\", palette=[\"m\", \"g\"],\n",
        "            data=tips)\n",
        "sns.despine(offset=10, trim=True)"
      ],
      "execution_count": 10,
      "outputs": [
        {
          "output_type": "display_data",
          "data": {
            "text/plain": [
              "<Figure size 640x480 with 1 Axes>"
            ],
            "image/png": "[encoded data removed]"
          },
          "metadata": {}
        }
      ]
    },
    {
      "cell_type": "markdown",
      "metadata": {
        "id": "PrFF9KJZJZRg"
      },
      "source": [
        "# 5-1-3: Communicating AI-aided content analysis"
      ]
    },
    {
      "cell_type": "code",
      "source": [
        "!curl -s https://api.github.com/repos/quarto-dev/quarto-cli/releases/latest | jq -r '.assets[] | select(.name | test(\"linux-amd64\\\\.deb$\")) | .browser_download_url' | head -n 1 | xargs -n 1 curl -LO\n"
      ],
      "metadata": {
        "colab": {
          "base_uri": "https://localhost:8080/"
        },
        "id": "6s83AnWIgj_Q",
        "outputId": "090df668-a304-4e51-afd8-0c76777b47e9"
      },
      "execution_count": 1,
      "outputs": [
        {
          "output_type": "stream",
          "name": "stdout",
          "text": [
            "  % Total    % Received % Xferd  Average Speed   Time    Time     Time  Current\n",
            "                                 Dload  Upload   Total   Spent    Left  Speed\n",
            "  0     0    0     0    0     0      0      0 --:--:-- --:--:-- --:--:--     0\n",
            "100  124M  100  124M    0     0   180M      0 --:--:-- --:--:-- --:--:--  180M\n"
          ]
        }
      ]
    },
    {
      "cell_type": "code",
      "source": [
        "!sudo dpkg -i quarto-1.7.32-linux-amd64.deb\n"
      ],
      "metadata": {
        "colab": {
          "base_uri": "https://localhost:8080/"
        },
        "id": "sjGSA8nIg1cG",
        "outputId": "0035cc1f-304e-4b48-ef67-41e6e5107ac0"
      },
      "execution_count": 2,
      "outputs": [
        {
          "output_type": "stream",
          "name": "stdout",
          "text": [
            "Selecting previously unselected package quarto.\n",
            "(Reading database ... 126308 files and directories currently installed.)\n",
            "Preparing to unpack quarto-1.7.32-linux-amd64.deb ...\n",
            "Unpacking quarto (1.7.32) ...\n",
            "Setting up quarto (1.7.32) ...\n"
          ]
        }
      ]
    },
    {
      "cell_type": "code",
      "metadata": {
        "colab": {
          "base_uri": "https://localhost:8080/"
        },
        "id": "QExQneW5JZRg",
        "outputId": "de6155e9-b8aa-44e7-aaa5-e86a87a6d9f0"
      },
      "source": [
        "!quarto --version\n",
        "!jupyter --version\n"
      ],
      "execution_count": 8,
      "outputs": [
        {
          "output_type": "stream",
          "name": "stdout",
          "text": [
            "1.7.32\n",
            "Selected Jupyter core packages...\n",
            "IPython          : 7.34.0\n",
            "ipykernel        : 6.17.1\n",
            "ipywidgets       : 7.7.1\n",
            "jupyter_client   : 6.1.12\n",
            "jupyter_core     : 5.8.1\n",
            "jupyter_server   : 1.16.0\n",
            "jupyterlab       : not installed\n",
            "nbclient         : 0.10.2\n",
            "nbconvert        : 7.16.6\n",
            "nbformat         : 5.10.4\n",
            "notebook         : 6.5.7\n",
            "qtconsole        : not installed\n",
            "traitlets        : 5.7.1\n",
            "Installing tinytex\n",
            "[✓] Downloading TinyTex v2025.06\n",
            "[✓] Unzipping TinyTeX-v2025.06.tar.gz\n",
            "[✓] Moving files\n",
            "[✓] Verifying tlgpg support\n",
            "[✓] Configuring font paths\n",
            "[✓] Default Repository: https://mirror.las.iastate.edu/tex-archive/systems/texlive/tlnet/\n",
            "Installation successful\n"
          ]
        }
      ]
    },
    {
      "cell_type": "code",
      "source": [
        "!quarto install tinytex"
      ],
      "metadata": {
        "id": "AKwyThMx4vFI"
      },
      "execution_count": null,
      "outputs": []
    },
    {
      "cell_type": "code",
      "source": [
        "!quarto convert /content/module05_ethical_aspects_of_ai_aided_content_analysis_10pct.ipynb"
      ],
      "metadata": {
        "colab": {
          "base_uri": "https://localhost:8080/"
        },
        "id": "taTBwDdb2F9x",
        "outputId": "50d56b70-fe35-4809-8b78-fab462e1ba2f"
      },
      "execution_count": 5,
      "outputs": [
        {
          "output_type": "stream",
          "name": "stdout",
          "text": [
            "Converted to /content/module05_ethical_aspects_of_ai_aided_content_analysis_10pct.qmd\n"
          ]
        }
      ]
    },
    {
      "cell_type": "code",
      "source": [
        "!quarto render /content/module05_ethical_aspects_of_ai_aided_content_analysis_10pct.qmd"
      ],
      "metadata": {
        "colab": {
          "base_uri": "https://localhost:8080/"
        },
        "id": "JMksjxQh2otH",
        "outputId": "1d694b89-f424-4e8c-ac3a-941cdb4a5c74"
      },
      "execution_count": 11,
      "outputs": [
        {
          "output_type": "stream",
          "name": "stdout",
          "text": [
            "\n",
            "Executing 'module05_ethical_aspects_of_ai_aided_content_analysis_10pct.quarto_ipynb'\n",
            "  Cell 1/5: ''...Done\n",
            "  Cell 2/5: ''...Done\n",
            "  Cell 3/5: ''...Done\n",
            "  Cell 4/5: ''...Done\n",
            "  Cell 5/5: ''...Done\n",
            "\n",
            "\u001b[1mpandoc \u001b[22m\n",
            "  to: latex\n",
            "  output-file: module05_ethical_aspects_of_ai_aided_content_analysis_10pct.tex\n",
            "  standalone: true\n",
            "  pdf-engine: xelatex\n",
            "  variables:\n",
            "    graphics: true\n",
            "    tables: true\n",
            "  default-image-extension: pdf\n",
            "  toc: true\n",
            "  number-sections: false\n",
            "  \n",
            "\u001b[1mmetadata\u001b[22m\n",
            "  documentclass: scrartcl\n",
            "  classoption:\n",
            "    - DIV=11\n",
            "    - numbers=noendperiod\n",
            "  papersize: a4\n",
            "  header-includes:\n",
            "    - \\KOMAoption{captions}{tableheading}\n",
            "  block-headings: true\n",
            "  title: '5-1-2: Analysis documentation and open science'\n",
            "  jupyter: python3\n",
            "  author: Your Name\n",
            "  date: today\n",
            "  \n",
            "\n",
            "Executing 'module05_ethical_aspects_of_ai_aided_content_analysis_10pct.quarto_ipynb'\n",
            "  Cell 1/5: ''...Done\n",
            "  Cell 2/5: ''...Done\n",
            "  Cell 3/5: ''...Done\n",
            "  Cell 4/5: ''...Done\n",
            "  Cell 5/5: ''...Done\n",
            "\n",
            "\u001b[1mpandoc \u001b[22m\n",
            "  to: html\n",
            "  output-file: module05_ethical_aspects_of_ai_aided_content_analysis_10pct.html\n",
            "  standalone: true\n",
            "  embed-resources: true\n",
            "  section-divs: true\n",
            "  html-math-method: mathjax\n",
            "  wrap: none\n",
            "  default-image-extension: png\n",
            "  toc: true\n",
            "  number-sections: false\n",
            "  variables: {}\n",
            "  \n",
            "\u001b[1mmetadata\u001b[22m\n",
            "  document-css: false\n",
            "  link-citations: true\n",
            "  date-format: long\n",
            "  lang: en\n",
            "  title: '5-1-2: Analysis documentation and open science'\n",
            "  jupyter: python3\n",
            "  author: Your Name\n",
            "  date: today\n",
            "  \n",
            "\n",
            "Executing 'module05_ethical_aspects_of_ai_aided_content_analysis_10pct.quarto_ipynb'\n",
            "  Cell 1/5: ''...Done\n",
            "  Cell 2/5: ''...Done\n",
            "  Cell 3/5: ''...Done\n",
            "  Cell 4/5: ''...Done\n",
            "  Cell 5/5: ''...Done\n",
            "\n",
            "\u001b[1mpandoc \u001b[22m\n",
            "  to: docx\n",
            "  output-file: module05_ethical_aspects_of_ai_aided_content_analysis_10pct.docx\n",
            "  default-image-extension: png\n",
            "  reference-doc: doc/reference.docx\n",
            "  toc: true\n",
            "  number-sections: false\n",
            "  variables: {}\n",
            "  \n",
            "\u001b[1mmetadata\u001b[22m\n",
            "  title: '5-1-2: Analysis documentation and open science'\n",
            "  jupyter: python3\n",
            "  author: Your Name\n",
            "  date: today\n",
            "  \n",
            "File doc/reference.docx not found in resource path\n"
          ]
        }
      ]
    },
    {
      "cell_type": "code",
      "source": [
        "!quarto render module05_ethical_aspects_of_ai_aided_content_analysis_10pct.ipynb --to pdf\n"
      ],
      "metadata": {
        "colab": {
          "base_uri": "https://localhost:8080/"
        },
        "id": "i_Bm4WaK3fvS",
        "outputId": "77944abd-e0cb-49be-aafe-ed6f07113a89"
      },
      "execution_count": 12,
      "outputs": [
        {
          "output_type": "stream",
          "name": "stdout",
          "text": [
            "\u001b[1mpandoc \u001b[22m\n",
            "  to: latex\n",
            "  output-file: module05_ethical_aspects_of_ai_aided_content_analysis_10pct.tex\n",
            "  standalone: true\n",
            "  pdf-engine: xelatex\n",
            "  variables:\n",
            "    graphics: true\n",
            "    tables: true\n",
            "  default-image-extension: pdf\n",
            "  \n",
            "\u001b[1mmetadata\u001b[22m\n",
            "  documentclass: scrartcl\n",
            "  classoption:\n",
            "    - DIV=11\n",
            "    - numbers=noendperiod\n",
            "  papersize: letter\n",
            "  header-includes:\n",
            "    - \\KOMAoption{captions}{tableheading}\n",
            "  block-headings: true\n",
            "  title: '5-1-2: Analysis documentation and open science'\n",
            "  \n",
            "\u001b[1m\u001b[34m\n",
            "Rendering PDF\u001b[39m\u001b[22m\n",
            "\u001b[1m\u001b[34mrunning xelatex - 1\u001b[39m\u001b[22m\n",
            "  This is XeTeX, Version 3.141592653-2.6-0.999997 (TeX Live 2025) (preloaded format=xelatex)\n",
            "   restricted \\write18 enabled.\n",
            "  entering extended mode\n",
            "  \n",
            "\u001b[1m\u001b[34mrunning xelatex - 2\u001b[39m\u001b[22m\n",
            "  This is XeTeX, Version 3.141592653-2.6-0.999997 (TeX Live 2025) (preloaded format=xelatex)\n",
            "   restricted \\write18 enabled.\n",
            "  entering extended mode\n",
            "  \n",
            "\n",
            "Output created: module05_ethical_aspects_of_ai_aided_content_analysis_10pct.pdf\n",
            "\n"
          ]
        }
      ]
    },
    {
      "cell_type": "code",
      "source": [],
      "metadata": {
        "id": "4wW_ebWk4Ywg"
      },
      "execution_count": null,
      "outputs": []
    }
  ],
  "metadata": {
    "kernelspec": {
      "display_name": "Python 3",
      "language": "python",
      "name": "python3"
    },
    "colab": {
      "provenance": []
    }
  },
  "nbformat": 4,
  "nbformat_minor": 0
}