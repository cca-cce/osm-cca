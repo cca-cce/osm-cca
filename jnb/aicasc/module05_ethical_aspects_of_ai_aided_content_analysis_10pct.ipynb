{
 "cells": [
  {
   "cell_type": "markdown",
   "metadata": {
    "id": "as3zaxEnJZRc"
   },
   "source": [
    "# 5-1-2: Analysis documentation and open science"
   ]
  },
  {
   "cell_type": "code",
   "execution_count": null,
   "metadata": {
    "id": "GSW1b4yCCPgd"
   },
   "outputs": [],
   "source": [
    "# https://github.com/cca-cce/osm-cca/blob/main/jnb/aicasc/module05_ethical_aspects_of_ai_aided_content_analysis_10pct.ipynb\n",
    "# https://nbviewer.org/github/cca-cce/osm-cca/blob/main/jnb/aicasc/module05_ethical_aspects_of_ai_aided_content_analysis_10pct.ipynb\n"
   ]
  },
  {
   "cell_type": "markdown",
   "metadata": {
    "id": "PBxyFo4rD1Mg"
   },
   "source": [
    "Open science empowers researchers to produce **reproducible and transparent workflows** by storing data, code, and results in accessible, shareable formats. By using **cloud platforms and version control systems**, teams can collaborate efficiently across institutions and time zones. Framing analyses to support **peer review and replication** not only strengthens research integrity but also accelerates discovery. Embracing open science means aligning **computational practices with core values of openness, accountability, and collaboration**.\n"
   ]
  },
  {
   "cell_type": "markdown",
   "metadata": {
    "id": "m7_0hCh0K5HJ"
   },
   "source": [
    "## What are Jupyter notebooks"
   ]
  },
  {
   "cell_type": "markdown",
   "metadata": {
    "id": "sAOTvsOwLAC4"
   },
   "source": [
    "Jupyter Notebooks are powerful tools that support **open, reproducible, and collaborative scientific work**:\n",
    "\n",
    "* 🧪 **Combine code and narrative** in one document to explain methods alongside results.\n",
    "* 📊 **Visualize data interactively** using plots and widgets to explore findings in real time.\n",
    "* 🔁 **Enable reproducibility** by sharing executable workflows with embedded code and outputs.\n",
    "* 🌐 **Collaborate easily** via platforms like GitHub, Google Colab, or [JupyterLab](https://jupyter.org/try-jupyter/lab/).\n",
    "* 📄 **Export to multiple formats** (HTML, PDF, Markdown) for publication or peer review."
   ]
  },
  {
   "cell_type": "code",
   "execution_count": null,
   "metadata": {
    "id": "NnXojV7_X5Pe"
   },
   "outputs": [],
   "source": [
    "# https://seaborn.pydata.org/examples/grouped_boxplot.html"
   ]
  },
  {
   "cell_type": "markdown",
   "metadata": {
    "id": "XdIEtFixMdKj"
   },
   "source": [
    "## Notebook research example"
   ]
  },
  {
   "cell_type": "markdown",
   "metadata": {
    "id": "gY1lUmWnMPNI"
   },
   "source": [
    "**_Introduction_**\n",
    "\n",
    "This study uses the **Palmer Penguins dataset** to investigate variation in bill morphology across species. By visualizing the relationship between **bill length** and **bill depth**, we aim to identify potential structural differences that may reflect ecological divergence.\n",
    "\n",
    "**_Research Question_**\n",
    "\n",
    "How does the relationship between bill length and bill depth differ across penguin species?\n",
    "\n",
    "**_Data analysis_**\n"
   ]
  },
  {
   "cell_type": "code",
   "execution_count": null,
   "metadata": {
    "colab": {
     "base_uri": "https://localhost:8080/",
     "height": 517
    },
    "id": "px-MiU8sMsYg",
    "outputId": "1f54677a-872d-4775-d0c3-044e72eafa29"
   },
   "outputs": [],
   "source": [
    "import seaborn as sns\n",
    "sns.set_theme()\n",
    "\n",
    "# Load the penguins dataset\n",
    "penguins = sns.load_dataset(\"penguins\")\n",
    "\n",
    "# Plot bill_length_mm as a function of bill_depth_mm\n",
    "g = sns.lmplot(\n",
    "    data=penguins,\n",
    "    x=\"bill_length_mm\", y=\"bill_depth_mm\", hue=\"species\",\n",
    "    height=5\n",
    ")\n",
    "\n",
    "# Use more informative axis labels than are provided by default\n",
    "g.set_axis_labels(\"Snoot length (mm)\", \"Snoot depth (mm)\")"
   ]
  },
  {
   "cell_type": "markdown",
   "metadata": {
    "id": "CGEs1YIdM_S-"
   },
   "source": [
    "The code begins with `import seaborn as sns` and `sns.set_theme()`, which is a good practice to apply a consistent visual style to all plots. Using `sns.load_dataset(\"penguins\")` efficiently loads the Palmer Penguins dataset, though it’s worth noting that this dataset contains some missing values—checking for those before plotting is recommended.\n",
    "\n",
    "The comment above the plot, `# Plot sepal width as a function of sepal_length across days`, is misleading and seems to be copied from another context (likely the iris dataset). It should be updated to reflect the actual variables being plotted: bill length and depth in penguins.\n",
    "\n",
    "The line `sns.lmplot(data=penguins, x=\"bill_length_mm\", y=\"bill_depth_mm\", hue=\"species\", height=5)` is well constructed and makes good use of `hue` to distinguish between species in the regression plot. The regression lines help illustrate group differences in morphology.\n",
    "\n",
    "Finally, `g.set_axis_labels(\"Snoot length (mm)\", \"Snoot depth (mm)\")` improves readability, though the use of \"Snoot\" is informal. For scientific or professional use, it's better to stick with \"Bill length\" and \"Bill depth\".\n",
    "\n",
    "Overall, the code is effective for exploratory data visualization, but it would benefit from clearer commenting and more precise axis labeling.\n"
   ]
  },
  {
   "cell_type": "markdown",
   "metadata": {
    "id": "DrH_Yq1GCSd9"
   },
   "source": [
    "## Download Jupyter Notebook"
   ]
  },
  {
   "cell_type": "code",
   "execution_count": null,
   "metadata": {
    "id": "IZJIB88WGXMH"
   },
   "outputs": [],
   "source": [
    "# use File -> Download -> .ipynb"
   ]
  },
  {
   "cell_type": "markdown",
   "metadata": {
    "id": "PrFF9KJZJZRg"
   },
   "source": [
    "# 5-1-3: Communicating AI-aided content analysis"
   ]
  },
  {
   "cell_type": "code",
   "execution_count": null,
   "metadata": {
    "id": "rTEFxN01E73p"
   },
   "outputs": [],
   "source": [
    "# https://seaborn.pydata.org/examples/grouped_boxplot.html"
   ]
  },
  {
   "cell_type": "code",
   "execution_count": null,
   "metadata": {
    "colab": {
     "base_uri": "https://localhost:8080/",
     "height": 472
    },
    "id": "w0KbPr0rJZRf",
    "outputId": "4e436237-b60d-48f7-ff55-4af3a2c9fd28"
   },
   "outputs": [],
   "source": [
    "import seaborn as sns\n",
    "sns.set_theme(style=\"ticks\", palette=\"pastel\")\n",
    "\n",
    "# Load the example tips dataset\n",
    "tips = sns.load_dataset(\"tips\")\n",
    "\n",
    "# Draw a nested boxplot to show bills by day and time\n",
    "sns.boxplot(x=\"day\", y=\"total_bill\",\n",
    "            hue=\"smoker\", palette=[\"m\", \"g\"],\n",
    "            data=tips)\n",
    "sns.despine(offset=10, trim=True)"
   ]
  },
  {
   "cell_type": "markdown",
   "metadata": {
    "id": "AZMkYR_4FBNq"
   },
   "source": [
    "## Upload Jupyter Notebook"
   ]
  },
  {
   "cell_type": "code",
   "execution_count": null,
   "metadata": {
    "id": "9homwQI6FJL3"
   },
   "outputs": [],
   "source": [
    "# use Left menu -> Files -> Upload to session storage"
   ]
  },
  {
   "cell_type": "markdown",
   "metadata": {
    "id": "8BnsbVFyFKmc"
   },
   "source": [
    "## Install Quarto publishing system"
   ]
  },
  {
   "cell_type": "code",
   "execution_count": null,
   "metadata": {
    "id": "5vw3YKlxLfGH"
   },
   "outputs": [],
   "source": [
    "# https://quarto.org/"
   ]
  },
  {
   "cell_type": "code",
   "execution_count": null,
   "metadata": {
    "colab": {
     "base_uri": "https://localhost:8080/"
    },
    "id": "6s83AnWIgj_Q",
    "outputId": "090df668-a304-4e51-afd8-0c76777b47e9"
   },
   "outputs": [],
   "source": [
    "#!curl -s https://api.github.com/repos/quarto-dev/quarto-cli/releases/latest | jq -r '.assets[] | select(.name | test(\"linux-amd64\\\\.deb$\")) | .browser_download_url' | head -n 1 | xargs -n 1 curl -LO\n"
   ]
  },
  {
   "cell_type": "code",
   "execution_count": null,
   "metadata": {
    "colab": {
     "base_uri": "https://localhost:8080/"
    },
    "id": "sjGSA8nIg1cG",
    "outputId": "0035cc1f-304e-4b48-ef67-41e6e5107ac0"
   },
   "outputs": [],
   "source": [
    "#!sudo dpkg -i quarto-*-linux-amd64.deb\n"
   ]
  },
  {
   "cell_type": "code",
   "execution_count": null,
   "metadata": {
    "colab": {
     "base_uri": "https://localhost:8080/"
    },
    "id": "QExQneW5JZRg",
    "outputId": "de6155e9-b8aa-44e7-aaa5-e86a87a6d9f0"
   },
   "outputs": [],
   "source": [
    "#!quarto --version\n",
    "#!jupyter --version\n"
   ]
  },
  {
   "cell_type": "code",
   "execution_count": null,
   "metadata": {
    "id": "AKwyThMx4vFI"
   },
   "outputs": [],
   "source": [
    "#!quarto install tinytex"
   ]
  },
  {
   "cell_type": "markdown",
   "metadata": {
    "id": "aG7Ww0ZUFviq"
   },
   "source": [
    "## Convert Notebook to publication"
   ]
  },
  {
   "cell_type": "code",
   "execution_count": null,
   "metadata": {
    "colab": {
     "base_uri": "https://localhost:8080/"
    },
    "id": "taTBwDdb2F9x",
    "outputId": "4a435202-7bdd-466c-d020-86935348a6e8"
   },
   "outputs": [],
   "source": [
    "#!quarto convert /content/module05_ethical_aspects_of_ai_aided_content_analysis_10pct.ipynb"
   ]
  },
  {
   "cell_type": "markdown",
   "metadata": {
    "id": "tvhuWj9sSjCn"
   },
   "source": [
    "```\n",
    "---\n",
    "title: \"Your Document Title\"\n",
    "author: \"Your Name\"\n",
    "date: today\n",
    "format:\n",
    "  pdf:\n",
    "    papersize: a4\n",
    "    toc: true\n",
    "    number-sections: false\n",
    "  html:\n",
    "    self-contained: true\n",
    "    toc: true\n",
    "    number-sections: false\n",
    "  docx:\n",
    "    toc: true\n",
    "    number-sections: false\n",
    "---\n",
    "```"
   ]
  },
  {
   "cell_type": "code",
   "execution_count": null,
   "metadata": {
    "id": "JMksjxQh2otH"
   },
   "outputs": [],
   "source": [
    "#!quarto render /content/module05_ethical_aspects_of_ai_aided_content_analysis_10pct.qmd"
   ]
  },
  {
   "cell_type": "code",
   "execution_count": null,
   "metadata": {
    "colab": {
     "base_uri": "https://localhost:8080/"
    },
    "id": "i_Bm4WaK3fvS",
    "outputId": "77944abd-e0cb-49be-aafe-ed6f07113a89"
   },
   "outputs": [],
   "source": [
    "#!quarto render module05_ethical_aspects_of_ai_aided_content_analysis_10pct.ipynb --to pdf\n"
   ]
  },
  {
   "cell_type": "code",
   "execution_count": null,
   "metadata": {
    "id": "4wW_ebWk4Ywg"
   },
   "outputs": [],
   "source": [
    "#!rm -rf module05*"
   ]
  },
  {
   "cell_type": "code",
   "execution_count": null,
   "metadata": {
    "id": "NZWUNU5zRp8X"
   },
   "outputs": [],
   "source": []
  }
 ],
 "metadata": {
  "colab": {
   "provenance": []
  },
  "kernelspec": {
   "display_name": "Python 3",
   "language": "python",
   "name": "python3"
  }
 },
 "nbformat": 4,
 "nbformat_minor": 0
}
