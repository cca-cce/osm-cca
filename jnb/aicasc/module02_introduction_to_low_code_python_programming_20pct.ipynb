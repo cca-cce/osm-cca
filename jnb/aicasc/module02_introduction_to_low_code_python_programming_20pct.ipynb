{
 "cells": [
  {
   "cell_type": "markdown",
   "metadata": {
    "id": "f2q0F72ivrqU"
   },
   "source": [
    "# 2-1-2: Google Colab notebook GUI"
   ]
  },
  {
   "cell_type": "code",
   "execution_count": null,
   "metadata": {
    "id": "bY5N3ytQvrqX"
   },
   "outputs": [],
   "source": [
    "# This is a code cell, try to add new code cells and markdown cells above and below this cell.\n",
    "# Explore the left hand menu and view icons, try to add new sections to TOC and upload files.\n",
    "# Finally, examine the top menu alternatives, try to restart the session, and download notebook."
   ]
  },
  {
   "cell_type": "markdown",
   "metadata": {
    "id": "LIfGwE3IUSTD"
   },
   "source": [
    "## Notebook code cells and text cells"
   ]
  },
  {
   "cell_type": "code",
   "execution_count": null,
   "metadata": {
    "id": "Tc2QN2SeUcsE"
   },
   "outputs": [],
   "source": [
    "# Create and delete\n",
    "# Execute code and text\n",
    "# Move up and down"
   ]
  },
  {
   "cell_type": "markdown",
   "metadata": {
    "id": "n6uGOXhDUngA"
   },
   "source": [
    "## Google Colab left-hand menu"
   ]
  },
  {
   "cell_type": "code",
   "execution_count": null,
   "metadata": {
    "id": "JOmlhjtWU_PS"
   },
   "outputs": [],
   "source": [
    "# Table of contents\n",
    "# Find and replace\n",
    "# Notebook tokens\n",
    "# Notebook files\n",
    "# Notebook variables\n",
    "greeting = \"hello fellow ai analysts :)\""
   ]
  },
  {
   "cell_type": "markdown",
   "metadata": {
    "id": "W3QobdXGU13f"
   },
   "source": [
    "## Google Colab top menu"
   ]
  },
  {
   "cell_type": "code",
   "execution_count": null,
   "metadata": {
    "id": "Nrj2KkUkU1Er"
   },
   "outputs": [],
   "source": [
    "# File: Open notebook from drive\n",
    "# File: Save notebook\n",
    "\n",
    "# Edit: Find replace\n",
    "# Edit: Delete cells\n",
    "# Edit: Notebook settings\n",
    "\n",
    "# View: Table of contents\n",
    "# View: Show/hide output\n",
    "\n",
    "# Runtime: Run cells\n",
    "# Runtime: Disconnect"
   ]
  },
  {
   "cell_type": "markdown",
   "metadata": {
    "id": "w6nIW-cLvrqY"
   },
   "source": [
    "# 2-1-3: Trying out some low-code Python"
   ]
  },
  {
   "cell_type": "code",
   "execution_count": null,
   "metadata": {
    "id": "y_glG6XbyYHT"
   },
   "outputs": [],
   "source": [
    "# Add a new empty code cell and click the \"generate\" link, then paste the following prompt:\n",
    "# \"generate a python function to check if a given string is a palindrome, and test the function\""
   ]
  },
  {
   "cell_type": "markdown",
   "metadata": {
    "id": "ILhH3-F0VZTr"
   },
   "source": [
    "## Use AI-assisted coding"
   ]
  },
  {
   "cell_type": "code",
   "execution_count": null,
   "metadata": {
    "id": "-12RjVI7vrqZ"
   },
   "outputs": [],
   "source": []
  },
  {
   "cell_type": "markdown",
   "metadata": {
    "id": "31CcAKiVWd4e"
   },
   "source": [
    "## AI-assisted code functions"
   ]
  },
  {
   "cell_type": "code",
   "execution_count": null,
   "metadata": {
    "id": "rVQJ_6hvWjss"
   },
   "outputs": [],
   "source": [
    "# prompt: generate a python function to check if a given string is a palindrome, and test the function\n",
    "\n",
    "def is_palindrome(s):\n",
    "  \"\"\"Checks if a string is a palindrome.\"\"\"\n",
    "  s = s.lower().replace(\" \", \"\")  # Convert to lowercase and remove spaces\n",
    "  return s == s[::-1]\n",
    "\n",
    "# Test the function\n",
    "print(is_palindrome(\"madam\"))\n",
    "print(is_palindrome(\"hello\"))\n",
    "print(is_palindrome(\"A man a plan a canal Panama\"))\n",
    "print(is_palindrome(\"racecar\"))\n",
    "print(is_palindrome(\"google\"))\n",
    "print(is_palindrome(\"level\"))"
   ]
  },
  {
   "cell_type": "markdown",
   "metadata": {
    "id": "7easKisOWAWR"
   },
   "source": [
    "## AI-assisted code debugging"
   ]
  },
  {
   "cell_type": "code",
   "execution_count": null,
   "metadata": {
    "id": "fLGu2n9qWMD6"
   },
   "outputs": [],
   "source": [
    "if greet is \"test\":\n",
    "  print(\"hello\")"
   ]
  },
  {
   "cell_type": "markdown",
   "metadata": {
    "id": "L6K72KWwvrqa"
   },
   "source": [
    "# 2-2-2: Low-code data analysis, tables"
   ]
  },
  {
   "cell_type": "code",
   "execution_count": null,
   "metadata": {
    "id": "ay2stX_Xvrqa"
   },
   "outputs": [],
   "source": [
    "# Generate a pandas dataset with three variables, one unique integer, one random float, one categorical"
   ]
  },
  {
   "cell_type": "markdown",
   "metadata": {
    "id": "2-69jKSUVpyz"
   },
   "source": [
    "## Use AI-assisted dataframes"
   ]
  },
  {
   "cell_type": "code",
   "execution_count": null,
   "metadata": {
    "colab": {
     "base_uri": "https://localhost:8080/"
    },
    "id": "Sni_3i1R1cDU",
    "outputId": "9118e1f5-ad89-4da5-a9f7-603e0abf2d07"
   },
   "outputs": [],
   "source": [
    "# prompt: Generate a pandas dataset with three variables, one unique integer, one random float, one categorical\n",
    "\n",
    "import pandas as pd\n",
    "import numpy as np\n",
    "\n",
    "# Generate unique integers\n",
    "unique_integers = np.arange(100)\n",
    "\n",
    "# Generate random floats\n",
    "random_floats = np.random.rand(100)\n",
    "\n",
    "# Generate categorical data\n",
    "categories = ['A', 'B', 'C']\n",
    "categorical_data = np.random.choice(categories, 100)\n",
    "\n",
    "# Create a DataFrame\n",
    "df = pd.DataFrame({\n",
    "    'unique_integer': unique_integers,\n",
    "    'random_float': random_floats,\n",
    "    'category': categorical_data\n",
    "})\n",
    "\n",
    "print(df.head())"
   ]
  },
  {
   "cell_type": "markdown",
   "metadata": {
    "id": "CbHgzukjvTej"
   },
   "source": [
    "## AI-assisted data aggregation"
   ]
  },
  {
   "cell_type": "code",
   "execution_count": null,
   "metadata": {
    "id": "t_oMKWN31oSc"
   },
   "outputs": [],
   "source": [
    "# Use dataframe \"df\" and aggregate mean of column \"random_float\" by column \"category\""
   ]
  },
  {
   "cell_type": "code",
   "execution_count": null,
   "metadata": {
    "colab": {
     "base_uri": "https://localhost:8080/",
     "height": 209
    },
    "id": "7lqTLUoT2ZHR",
    "outputId": "dac98bc5-1847-4c54-80c5-e7368078c1da"
   },
   "outputs": [],
   "source": [
    "# prompt: Use dataframe \"df\" and aggregate mean of column \"random_float\" by column \"category\"\n",
    "\n",
    "# Group by 'category' and calculate the mean of 'random_float'\n",
    "mean_by_category = df.groupby('category')['random_float'].mean()\n",
    "\n",
    "mean_by_category"
   ]
  },
  {
   "cell_type": "markdown",
   "metadata": {
    "id": "RYaR30jdvsun"
   },
   "source": [
    "## Save and load dataframes"
   ]
  },
  {
   "cell_type": "code",
   "execution_count": null,
   "metadata": {
    "id": "JcBVIkxK2izO"
   },
   "outputs": [],
   "source": [
    "# Save dataframes \"df\" and \"mean_by_category\" as tsv files, then load tsv file to existing dataframe"
   ]
  },
  {
   "cell_type": "code",
   "execution_count": null,
   "metadata": {
    "id": "G9l1NJpE2yYJ"
   },
   "outputs": [],
   "source": [
    "# prompt: Save dataframes \"df\" and \"mean_by_category\" as tsv files, then load tsv file to existing dataframe\n",
    "\n",
    "import pandas as pd\n",
    "df.to_csv('df.tsv', sep='\\t', index=False)\n",
    "mean_by_category.to_csv('mean_by_category.tsv', sep='\\t')\n",
    "\n",
    "# Load tsv file to existing dataframe df\n",
    "df = pd.read_csv('df.tsv', sep='\\t')"
   ]
  },
  {
   "cell_type": "markdown",
   "metadata": {
    "id": "9DKdQMlyvrqa"
   },
   "source": [
    "# 2-2-3: Low-code data analysis, graphs"
   ]
  },
  {
   "cell_type": "code",
   "execution_count": null,
   "metadata": {
    "id": "KTeb_T-C3U9A"
   },
   "outputs": [],
   "source": [
    "# Use dataframe \"mean_by_category\" and generate a bar plot of \"random_float\" by \"category\""
   ]
  },
  {
   "cell_type": "markdown",
   "metadata": {
    "id": "z5yiNKZ0wOZf"
   },
   "source": [
    "## Use AI-assisted data visualization"
   ]
  },
  {
   "cell_type": "code",
   "execution_count": null,
   "metadata": {
    "id": "S03BZ0AK85Tu"
   },
   "outputs": [],
   "source": [
    "import pandas as pd\n",
    "\n",
    "# Load tsv file to existing dataframe df\n",
    "mean_by_category = pd.read_csv('mean_by_category.tsv', sep='\\t')\n",
    "\n",
    "mean_by_category.head()"
   ]
  },
  {
   "cell_type": "code",
   "execution_count": null,
   "metadata": {
    "colab": {
     "base_uri": "https://localhost:8080/",
     "height": 501
    },
    "id": "9nRxDaBMvrqb",
    "outputId": "ea805281-eb9f-4e60-90e1-5d2602430b1f"
   },
   "outputs": [],
   "source": [
    "# prompt: Use dataframe \"mean_by_category\" and generate a bar plot of \"random_float\" by \"category\"\n",
    "\n",
    "import pandas as pd\n",
    "import matplotlib.pyplot as plt\n",
    "\n",
    "# Customize appearance\n",
    "ymin = 0      # Set your desired y-axis min\n",
    "ymax = 1      # Set your desired y-axis max\n",
    "bar_color = 'green'  # Custom bar color\n",
    "\n",
    "# Reset index so 'category' becomes a column\n",
    "df_plot = mean_by_category.reset_index()\n",
    "\n",
    "# Create bar plot\n",
    "plt.figure(figsize=(8, 5))\n",
    "plt.bar(df_plot['category'], df_plot['random_float'], color=bar_color)\n",
    "\n",
    "# Format axes\n",
    "plt.title('Mean of Random Float by Category')\n",
    "plt.xlabel('Category')\n",
    "plt.ylabel('Mean Random Float')\n",
    "plt.ylim(ymin, ymax)\n",
    "plt.xticks(rotation=0, ha='right')\n",
    "\n",
    "plt.tight_layout()\n",
    "\n",
    "# Save the plot\n",
    "output_file = 'mean_by_category_plot.png'  # Set your desired filename\n",
    "plt.savefig(output_file, dpi=300)\n",
    "\n",
    "plt.show()\n"
   ]
  },
  {
   "cell_type": "markdown",
   "metadata": {
    "id": "FU5CmkPswuSK"
   },
   "source": [
    "## AI-assisted line graphs"
   ]
  },
  {
   "cell_type": "code",
   "execution_count": null,
   "metadata": {
    "colab": {
     "base_uri": "https://localhost:8080/",
     "height": 564
    },
    "id": "bcZ56dJzwyGH",
    "outputId": "511fd6ea-574f-4390-a2a8-f8f363ccefcf"
   },
   "outputs": [],
   "source": [
    "# prompt: i have dataframe below, please create a seaborn line graph of first two columns, first column on x axis and second on y axis\n",
    "# # Create a DataFrame\n",
    "# df = pd.DataFrame({\n",
    "#     'unique_integer': unique_integers,\n",
    "#     'random_float': random_floats,\n",
    "#     'category': categorical_data\n",
    "# })\n",
    "\n",
    "import matplotlib.pyplot as plt\n",
    "import seaborn as sns\n",
    "\n",
    "plt.figure(figsize=(10, 6))\n",
    "sns.lineplot(x='unique_integer', y='random_float', data=df)\n",
    "plt.title('Random Float vs. Unique Integer')\n",
    "plt.xlabel('Unique Integer')\n",
    "plt.ylabel('Random Float')\n",
    "plt.show()"
   ]
  },
  {
   "cell_type": "markdown",
   "metadata": {
    "id": "QFHQK3oyyEqa"
   },
   "source": [
    "## More AI-assisted graphs"
   ]
  },
  {
   "cell_type": "code",
   "execution_count": null,
   "metadata": {
    "colab": {
     "base_uri": "https://localhost:8080/",
     "height": 475
    },
    "id": "n6931-_hyHNU",
    "outputId": "33dda6a7-9e16-440e-cbb7-e07cb61308c7"
   },
   "outputs": [],
   "source": [
    "# https://seaborn.pydata.org/examples/index.html\n",
    "\n",
    "import seaborn as sns\n",
    "sns.set_theme(style=\"darkgrid\")\n",
    "\n",
    "# Load an example dataset with long-form data\n",
    "fmri = sns.load_dataset(\"fmri\")\n",
    "\n",
    "# Plot the responses for different events and regions\n",
    "sns.lineplot(x=\"timepoint\", y=\"signal\",\n",
    "             hue=\"region\", style=\"event\",\n",
    "             data=fmri)"
   ]
  },
  {
   "cell_type": "code",
   "execution_count": null,
   "metadata": {
    "id": "KLMqocAAyNg5"
   },
   "outputs": [],
   "source": []
  }
 ],
 "metadata": {
  "colab": {
   "provenance": [],
   "toc_visible": true
  },
  "kernelspec": {
   "display_name": "Python 3",
   "language": "python",
   "name": "python3"
  }
 },
 "nbformat": 4,
 "nbformat_minor": 0
}
