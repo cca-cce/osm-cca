{
  "cells": [
    {
      "cell_type": "markdown",
      "metadata": {
        "id": "f2q0F72ivrqU"
      },
      "source": [
        "# 2-1-2: Google Colab notebook user interface"
      ]
    },
    {
      "cell_type": "code",
      "metadata": {
        "id": "bY5N3ytQvrqX"
      },
      "source": [
        "# This is a code cell, try to add new code cells and markdown cells above and below this cell.\n",
        "# Explore the left hand menu and view icons, try to add new sections to TOC and upload files.\n",
        "# Finally, examine the top menu alternatives, try to restart the session, and download notebook."
      ],
      "execution_count": null,
      "outputs": []
    },
    {
      "cell_type": "markdown",
      "metadata": {
        "id": "w6nIW-cLvrqY"
      },
      "source": [
        "# 2-1-3: Trying out some low-code Python"
      ]
    },
    {
      "cell_type": "code",
      "source": [
        "# Add a new empty code cell and click the \"generate\" link, then paste the following prompt:\n",
        "# \"generate a python function to check if a given string is a palindrome, and test the function\""
      ],
      "metadata": {
        "id": "y_glG6XbyYHT"
      },
      "execution_count": null,
      "outputs": []
    },
    {
      "cell_type": "code",
      "metadata": {
        "colab": {
          "base_uri": "https://localhost:8080/"
        },
        "id": "-12RjVI7vrqZ",
        "outputId": "f1d30b78-ef91-438c-9afc-00ca2b7b4e4a"
      },
      "source": [
        "# prompt: generate a python function to check if a given string is a palindrome, and test the function\n",
        "\n",
        "def is_palindrome(s):\n",
        "  \"\"\"Checks if a string is a palindrome.\"\"\"\n",
        "  s = s.lower().replace(\" \", \"\")  # Convert to lowercase and remove spaces\n",
        "  return s == s[::-1]\n",
        "\n",
        "# Test the function\n",
        "print(is_palindrome(\"madam\"))\n",
        "print(is_palindrome(\"hello\"))\n",
        "print(is_palindrome(\"A man a plan a canal Panama\"))\n",
        "print(is_palindrome(\"racecar\"))\n",
        "print(is_palindrome(\"google\"))\n",
        "print(is_palindrome(\"level\"))"
      ],
      "execution_count": 1,
      "outputs": [
        {
          "output_type": "stream",
          "name": "stdout",
          "text": [
            "True\n",
            "False\n",
            "True\n",
            "True\n",
            "False\n",
            "True\n"
          ]
        }
      ]
    },
    {
      "cell_type": "markdown",
      "metadata": {
        "id": "L6K72KWwvrqa"
      },
      "source": [
        "# 2-2-2: Low-code data analysis, tables"
      ]
    },
    {
      "cell_type": "code",
      "metadata": {
        "id": "ay2stX_Xvrqa"
      },
      "source": [
        "# Generate a pandas dataset with three variables, one unique integer, one random float, one categorical"
      ],
      "execution_count": null,
      "outputs": []
    },
    {
      "cell_type": "code",
      "source": [
        "# prompt: Generate a pandas dataset with three variables, one unique integer, one random float, one categorical\n",
        "\n",
        "import pandas as pd\n",
        "import numpy as np\n",
        "\n",
        "# Generate unique integers\n",
        "unique_integers = np.arange(100)\n",
        "\n",
        "# Generate random floats\n",
        "random_floats = np.random.rand(100)\n",
        "\n",
        "# Generate categorical data\n",
        "categories = ['A', 'B', 'C']\n",
        "categorical_data = np.random.choice(categories, 100)\n",
        "\n",
        "# Create a DataFrame\n",
        "df = pd.DataFrame({\n",
        "    'unique_integer': unique_integers,\n",
        "    'random_float': random_floats,\n",
        "    'category': categorical_data\n",
        "})\n",
        "\n",
        "print(df.head())"
      ],
      "metadata": {
        "colab": {
          "base_uri": "https://localhost:8080/"
        },
        "id": "Sni_3i1R1cDU",
        "outputId": "0c228b1a-d104-4ba2-eabe-b9dcd7b1396d"
      },
      "execution_count": 2,
      "outputs": [
        {
          "output_type": "stream",
          "name": "stdout",
          "text": [
            "   unique_integer  random_float category\n",
            "0               0      0.443088        A\n",
            "1               1      0.177502        C\n",
            "2               2      0.360901        A\n",
            "3               3      0.727645        C\n",
            "4               4      0.525754        B\n"
          ]
        }
      ]
    },
    {
      "cell_type": "code",
      "source": [
        "# Use dataframe \"df\" and aggregate mean of column \"random_float\" by column \"category\""
      ],
      "metadata": {
        "id": "t_oMKWN31oSc"
      },
      "execution_count": null,
      "outputs": []
    },
    {
      "cell_type": "code",
      "source": [
        "# prompt: Use dataframe \"df\" and aggregate mean of column \"random_float\" by column \"category\"\n",
        "\n",
        "# Group by 'category' and calculate the mean of 'random_float'\n",
        "mean_by_category = df.groupby('category')['random_float'].mean()\n",
        "\n",
        "mean_by_category"
      ],
      "metadata": {
        "colab": {
          "base_uri": "https://localhost:8080/",
          "height": 209
        },
        "id": "7lqTLUoT2ZHR",
        "outputId": "ab107cba-0aa5-4238-f820-ae573324b15a"
      },
      "execution_count": 3,
      "outputs": [
        {
          "output_type": "execute_result",
          "data": {
            "text/plain": [
              "category\n",
              "A    0.491981\n",
              "B    0.471271\n",
              "C    0.402816\n",
              "Name: random_float, dtype: float64"
            ],
            "text/html": [
              "<div>\n",
              "<style scoped>\n",
              "    .dataframe tbody tr th:only-of-type {\n",
              "        vertical-align: middle;\n",
              "    }\n",
              "\n",
              "    .dataframe tbody tr th {\n",
              "        vertical-align: top;\n",
              "    }\n",
              "\n",
              "    .dataframe thead th {\n",
              "        text-align: right;\n",
              "    }\n",
              "</style>\n",
              "<table border=\"1\" class=\"dataframe\">\n",
              "  <thead>\n",
              "    <tr style=\"text-align: right;\">\n",
              "      <th></th>\n",
              "      <th>random_float</th>\n",
              "    </tr>\n",
              "    <tr>\n",
              "      <th>category</th>\n",
              "      <th></th>\n",
              "    </tr>\n",
              "  </thead>\n",
              "  <tbody>\n",
              "    <tr>\n",
              "      <th>A</th>\n",
              "      <td>0.491981</td>\n",
              "    </tr>\n",
              "    <tr>\n",
              "      <th>B</th>\n",
              "      <td>0.471271</td>\n",
              "    </tr>\n",
              "    <tr>\n",
              "      <th>C</th>\n",
              "      <td>0.402816</td>\n",
              "    </tr>\n",
              "  </tbody>\n",
              "</table>\n",
              "</div><br><label><b>dtype:</b> float64</label>"
            ]
          },
          "metadata": {},
          "execution_count": 3
        }
      ]
    },
    {
      "cell_type": "code",
      "source": [
        "# Save dataframes \"df\" and \"mean_by_category\" as tsv files, then load tsv file to existing dataframe"
      ],
      "metadata": {
        "id": "JcBVIkxK2izO"
      },
      "execution_count": 5,
      "outputs": []
    },
    {
      "cell_type": "code",
      "source": [
        "# prompt: Save dataframes \"df\" and \"mean_by_category\" as tsv files, then load tsv file to existing dataframe\n",
        "\n",
        "import pandas as pd\n",
        "df.to_csv('df.tsv', sep='\\t', index=False)\n",
        "mean_by_category.to_csv('mean_by_category.tsv', sep='\\t')\n",
        "\n",
        "# Load tsv file to existing dataframe df\n",
        "df = pd.read_csv('df.tsv', sep='\\t')"
      ],
      "metadata": {
        "id": "G9l1NJpE2yYJ"
      },
      "execution_count": 6,
      "outputs": []
    },
    {
      "cell_type": "markdown",
      "metadata": {
        "id": "9DKdQMlyvrqa"
      },
      "source": [
        "# 2-2-3: Low-code data analysis, graphs"
      ]
    },
    {
      "cell_type": "code",
      "source": [
        "# Use dataframe \"mean_by_category\" and generate a bar plot of \"random_float\" by \"category\""
      ],
      "metadata": {
        "id": "KTeb_T-C3U9A"
      },
      "execution_count": null,
      "outputs": []
    },
    {
      "cell_type": "code",
      "metadata": {
        "colab": {
          "base_uri": "https://localhost:8080/",
          "height": 467
        },
        "id": "9nRxDaBMvrqb",
        "outputId": "0e4f553f-96a8-42c7-df49-af80795fc720"
      },
      "source": [
        "# prompt: Use dataframe \"mean_by_category\" and generate a bar plot of \"random_float\" by \"category\"\n",
        "\n",
        "import pandas as pd\n",
        "import matplotlib.pyplot as plt\n",
        "\n",
        "# Ensure mean_by_category is a pandas Series or DataFrame\n",
        "if isinstance(mean_by_category, pd.Series):\n",
        "  mean_by_category.plot(kind='bar')\n",
        "elif isinstance(mean_by_category, pd.DataFrame):\n",
        "  # Assuming 'category' is index and 'random_float' is a column\n",
        "  mean_by_category['random_float'].plot(kind='bar')\n",
        "\n",
        "plt.title('Mean of Random Float by Category')\n",
        "plt.xlabel('Category')\n",
        "plt.ylabel('Mean Random Float')\n",
        "plt.show()"
      ],
      "execution_count": 7,
      "outputs": [
        {
          "output_type": "display_data",
          "data": {
            "text/plain": [
              "<Figure size 640x480 with 1 Axes>"
            ],
            "image/png": "[encoded data removed]"
          },
          "metadata": {}
        }
      ]
    }
  ],
  "metadata": {
    "kernelspec": {
      "display_name": "Python 3",
      "language": "python",
      "name": "python3"
    },
    "colab": {
      "provenance": [],
      "toc_visible": true
    }
  },
  "nbformat": 4,
  "nbformat_minor": 0
}