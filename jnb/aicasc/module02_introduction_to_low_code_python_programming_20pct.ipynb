{
  "cells": [
    {
      "cell_type": "markdown",
      "metadata": {
        "id": "f2q0F72ivrqU"
      },
      "source": [
        "# 2-1-2: Google Colab notebook GUI"
      ]
    },
    {
      "cell_type": "code",
      "metadata": {
        "id": "bY5N3ytQvrqX"
      },
      "source": [
        "# This is a code cell, try to add new code cells and markdown cells above and below this cell.\n",
        "# Explore the left hand menu and view icons, try to add new sections to TOC and upload files.\n",
        "# Finally, examine the top menu alternatives, try to restart the session, and download notebook."
      ],
      "execution_count": null,
      "outputs": []
    },
    {
      "cell_type": "markdown",
      "source": [
        "## Notebook code cells and text cells"
      ],
      "metadata": {
        "id": "LIfGwE3IUSTD"
      }
    },
    {
      "cell_type": "code",
      "source": [
        "# Create and delete\n",
        "# Execute code and text\n",
        "# Move up and down"
      ],
      "metadata": {
        "id": "Tc2QN2SeUcsE"
      },
      "execution_count": null,
      "outputs": []
    },
    {
      "cell_type": "markdown",
      "source": [
        "## Google Colab left-hand menu"
      ],
      "metadata": {
        "id": "n6uGOXhDUngA"
      }
    },
    {
      "cell_type": "code",
      "source": [
        "# Table of contents\n",
        "# Find and replace\n",
        "# Notebook tokens\n",
        "# Notebook files\n",
        "# Notebook variables\n",
        "greeting = \"hello fellow ai analysts :)\""
      ],
      "metadata": {
        "id": "JOmlhjtWU_PS"
      },
      "execution_count": null,
      "outputs": []
    },
    {
      "cell_type": "markdown",
      "source": [
        "## Google Colab top menu"
      ],
      "metadata": {
        "id": "W3QobdXGU13f"
      }
    },
    {
      "cell_type": "code",
      "source": [
        "# File: Open notebook from drive\n",
        "# File: Save notebook\n",
        "\n",
        "# Edit: Find replace\n",
        "# Edit: Delete cells\n",
        "# Edit: Notebook settings\n",
        "\n",
        "# View: Table of contents\n",
        "# View: Show/hide output\n",
        "\n",
        "# Runtime: Run cells\n",
        "# Runtime: Disconnect"
      ],
      "metadata": {
        "id": "Nrj2KkUkU1Er"
      },
      "execution_count": null,
      "outputs": []
    },
    {
      "cell_type": "markdown",
      "metadata": {
        "id": "w6nIW-cLvrqY"
      },
      "source": [
        "# 2-1-3: Trying out some low-code Python"
      ]
    },
    {
      "cell_type": "code",
      "source": [
        "# Add a new empty code cell and click the \"generate\" link, then paste the following prompt:\n",
        "# \"generate a python function to check if a given string is a palindrome, and test the function\""
      ],
      "metadata": {
        "id": "y_glG6XbyYHT"
      },
      "execution_count": null,
      "outputs": []
    },
    {
      "cell_type": "markdown",
      "source": [
        "## Use AI-assisted coding"
      ],
      "metadata": {
        "id": "ILhH3-F0VZTr"
      }
    },
    {
      "cell_type": "code",
      "metadata": {
        "id": "-12RjVI7vrqZ"
      },
      "source": [],
      "execution_count": null,
      "outputs": []
    },
    {
      "cell_type": "markdown",
      "source": [
        "## AI-assisted code functions"
      ],
      "metadata": {
        "id": "31CcAKiVWd4e"
      }
    },
    {
      "cell_type": "code",
      "source": [
        "# prompt: generate a python function to check if a given string is a palindrome, and test the function\n",
        "\n",
        "def is_palindrome(s):\n",
        "  \"\"\"Checks if a string is a palindrome.\"\"\"\n",
        "  s = s.lower().replace(\" \", \"\")  # Convert to lowercase and remove spaces\n",
        "  return s == s[::-1]\n",
        "\n",
        "# Test the function\n",
        "print(is_palindrome(\"madam\"))\n",
        "print(is_palindrome(\"hello\"))\n",
        "print(is_palindrome(\"A man a plan a canal Panama\"))\n",
        "print(is_palindrome(\"racecar\"))\n",
        "print(is_palindrome(\"google\"))\n",
        "print(is_palindrome(\"level\"))"
      ],
      "metadata": {
        "collapsed": true,
        "id": "rVQJ_6hvWjss"
      },
      "execution_count": null,
      "outputs": []
    },
    {
      "cell_type": "markdown",
      "source": [
        "## AI-assisted code debugging"
      ],
      "metadata": {
        "id": "7easKisOWAWR"
      }
    },
    {
      "cell_type": "code",
      "source": [
        "if greet is \"test\":\n",
        "  print(\"hello\")"
      ],
      "metadata": {
        "id": "fLGu2n9qWMD6"
      },
      "execution_count": null,
      "outputs": []
    },
    {
      "cell_type": "markdown",
      "metadata": {
        "id": "L6K72KWwvrqa"
      },
      "source": [
        "# 2-2-2: Low-code data analysis, tables"
      ]
    },
    {
      "cell_type": "code",
      "metadata": {
        "id": "ay2stX_Xvrqa"
      },
      "source": [
        "# Generate a pandas dataset with three variables, one unique integer, one random float, one categorical"
      ],
      "execution_count": null,
      "outputs": []
    },
    {
      "cell_type": "markdown",
      "source": [
        "## Use AI-assisted dataframes"
      ],
      "metadata": {
        "id": "2-69jKSUVpyz"
      }
    },
    {
      "cell_type": "code",
      "source": [
        "# prompt: Generate a pandas dataset with three variables, one unique integer, one random float, one categorical\n",
        "\n",
        "import pandas as pd\n",
        "import numpy as np\n",
        "\n",
        "# Generate unique integers\n",
        "unique_integers = np.arange(100)\n",
        "\n",
        "# Generate random floats\n",
        "random_floats = np.random.rand(100)\n",
        "\n",
        "# Generate categorical data\n",
        "categories = ['A', 'B', 'C']\n",
        "categorical_data = np.random.choice(categories, 100)\n",
        "\n",
        "# Create a DataFrame\n",
        "df = pd.DataFrame({\n",
        "    'unique_integer': unique_integers,\n",
        "    'random_float': random_floats,\n",
        "    'category': categorical_data\n",
        "})\n",
        "\n",
        "print(df.head())"
      ],
      "metadata": {
        "id": "Sni_3i1R1cDU"
      },
      "execution_count": null,
      "outputs": []
    },
    {
      "cell_type": "markdown",
      "source": [
        "## AI-assisted data aggregation"
      ],
      "metadata": {
        "id": "CbHgzukjvTej"
      }
    },
    {
      "cell_type": "code",
      "source": [
        "# Use dataframe \"df\" and aggregate mean of column \"random_float\" by column \"category\""
      ],
      "metadata": {
        "id": "t_oMKWN31oSc"
      },
      "execution_count": null,
      "outputs": []
    },
    {
      "cell_type": "code",
      "source": [
        "# prompt: Use dataframe \"df\" and aggregate mean of column \"random_float\" by column \"category\"\n",
        "\n",
        "# Group by 'category' and calculate the mean of 'random_float'\n",
        "mean_by_category = df.groupby('category')['random_float'].mean()\n",
        "\n",
        "mean_by_category"
      ],
      "metadata": {
        "id": "7lqTLUoT2ZHR"
      },
      "execution_count": null,
      "outputs": []
    },
    {
      "cell_type": "markdown",
      "source": [
        "## Save and load dataframes"
      ],
      "metadata": {
        "id": "RYaR30jdvsun"
      }
    },
    {
      "cell_type": "code",
      "source": [
        "# Save dataframes \"df\" and \"mean_by_category\" as tsv files, then load tsv file to existing dataframe"
      ],
      "metadata": {
        "id": "JcBVIkxK2izO"
      },
      "execution_count": null,
      "outputs": []
    },
    {
      "cell_type": "code",
      "source": [
        "# prompt: Save dataframes \"df\" and \"mean_by_category\" as tsv files, then load tsv file to existing dataframe\n",
        "\n",
        "import pandas as pd\n",
        "df.to_csv('df.tsv', sep='\\t', index=False)\n",
        "mean_by_category.to_csv('mean_by_category.tsv', sep='\\t')\n",
        "\n",
        "# Load tsv file to existing dataframe df\n",
        "df = pd.read_csv('df.tsv', sep='\\t')"
      ],
      "metadata": {
        "id": "G9l1NJpE2yYJ"
      },
      "execution_count": null,
      "outputs": []
    },
    {
      "cell_type": "markdown",
      "metadata": {
        "id": "9DKdQMlyvrqa"
      },
      "source": [
        "# 2-2-3: Low-code data analysis, graphs"
      ]
    },
    {
      "cell_type": "code",
      "source": [
        "# Use dataframe \"mean_by_category\" and generate a bar plot of \"random_float\" by \"category\""
      ],
      "metadata": {
        "id": "KTeb_T-C3U9A"
      },
      "execution_count": null,
      "outputs": []
    },
    {
      "cell_type": "markdown",
      "source": [
        "## Use AI-assisted data visualization"
      ],
      "metadata": {
        "id": "z5yiNKZ0wOZf"
      }
    },
    {
      "cell_type": "code",
      "metadata": {
        "id": "9nRxDaBMvrqb"
      },
      "source": [
        "# prompt: Use dataframe \"mean_by_category\" and generate a bar plot of \"random_float\" by \"category\"\n",
        "\n",
        "import pandas as pd\n",
        "import matplotlib.pyplot as plt\n",
        "\n",
        "# Ensure mean_by_category is a pandas Series or DataFrame\n",
        "if isinstance(mean_by_category, pd.Series):\n",
        "  mean_by_category.plot(kind='bar')\n",
        "elif isinstance(mean_by_category, pd.DataFrame):\n",
        "  # Assuming 'category' is index and 'random_float' is a column\n",
        "  mean_by_category['random_float'].plot(kind='bar')\n",
        "\n",
        "plt.title('Mean of Random Float by Category')\n",
        "plt.xlabel('Category')\n",
        "plt.ylabel('Mean Random Float')\n",
        "plt.show()"
      ],
      "execution_count": null,
      "outputs": []
    },
    {
      "cell_type": "markdown",
      "source": [
        "## AI-assisted line graphs"
      ],
      "metadata": {
        "id": "FU5CmkPswuSK"
      }
    },
    {
      "cell_type": "code",
      "source": [
        "# prompt: i have dataframe below, please create a seaborn line graph of first two columns, first column on x axis and second on y axis\n",
        "# # Create a DataFrame\n",
        "# df = pd.DataFrame({\n",
        "#     'unique_integer': unique_integers,\n",
        "#     'random_float': random_floats,\n",
        "#     'category': categorical_data\n",
        "# })\n",
        "\n",
        "import matplotlib.pyplot as plt\n",
        "import seaborn as sns\n",
        "\n",
        "plt.figure(figsize=(10, 6))\n",
        "sns.lineplot(x='unique_integer', y='random_float', data=df)\n",
        "plt.title('Random Float vs. Unique Integer')\n",
        "plt.xlabel('Unique Integer')\n",
        "plt.ylabel('Random Float')\n",
        "plt.show()"
      ],
      "metadata": {
        "id": "bcZ56dJzwyGH"
      },
      "execution_count": null,
      "outputs": []
    },
    {
      "cell_type": "markdown",
      "source": [
        "## More AI-assisted graphs"
      ],
      "metadata": {
        "id": "QFHQK3oyyEqa"
      }
    },
    {
      "cell_type": "code",
      "source": [
        "# https://seaborn.pydata.org/examples/index.html\n",
        "\n",
        "import seaborn as sns\n",
        "sns.set_theme(style=\"darkgrid\")\n",
        "\n",
        "# Load an example dataset with long-form data\n",
        "fmri = sns.load_dataset(\"fmri\")\n",
        "\n",
        "# Plot the responses for different events and regions\n",
        "sns.lineplot(x=\"timepoint\", y=\"signal\",\n",
        "             hue=\"region\", style=\"event\",\n",
        "             data=fmri)"
      ],
      "metadata": {
        "id": "n6931-_hyHNU"
      },
      "execution_count": null,
      "outputs": []
    },
    {
      "cell_type": "code",
      "source": [],
      "metadata": {
        "id": "KLMqocAAyNg5"
      },
      "execution_count": null,
      "outputs": []
    }
  ],
  "metadata": {
    "kernelspec": {
      "display_name": "Python 3",
      "language": "python",
      "name": "python3"
    },
    "colab": {
      "provenance": [],
      "toc_visible": true
    }
  },
  "nbformat": 4,
  "nbformat_minor": 0
}