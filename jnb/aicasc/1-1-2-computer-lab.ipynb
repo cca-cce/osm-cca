{
  "cells": [
    {
      "cell_type": "markdown",
      "metadata": {},
      "source": [
        "---\n",
        "title: \"module01-understanding-sustainability-communication-content-10pct/1-1-2-computer-lab.qmd\"\n",
        "---\n",
        "\n",
        "## [1-1-2-computer-lab.qmd](1-1-2-computer-lab.qmd)\n",
        "\n",
        "- **computer lab:** find, download suscomm on organizational websites\n",
        "- **computer lab:** setting up a minimal, simple content database\n"
      ]
    }
  ],
  "metadata": {
    "kernelspec": {
      "name": "python3",
      "language": "python",
      "display_name": "Python 3 (ipykernel)",
      "path": "/usr/local/share/jupyter/kernels/python3"
    }
  },
  "nbformat": 4,
  "nbformat_minor": 4
}