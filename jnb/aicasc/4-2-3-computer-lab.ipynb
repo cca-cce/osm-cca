{
  "cells": [
    {
      "cell_type": "markdown",
      "metadata": {},
      "source": [
        "---\n",
        "title: \"Module 4: Analyzing image content with computer vision\"\n",
        "subtitle: \"AI-aided content analysis of sustainability communication\"\n",
        "#author: \"nils.holmberg@iko.lu.se\"\n",
        "---\n",
        "\n",
        "## Lesson 4.2: Inferential image analysis, object detection\n",
        "\n",
        "### [lab notebook](4-2-3-computer-lab-notebook.ipynb){target=\"_blank\"}\n",
        "\n",
        "### [lab video](video-url.mp4){target=\"_blank\"}\n",
        "\n",
        "### lab text\n"
      ]
    }
  ],
  "metadata": {
    "kernelspec": {
      "display_name": "Python 3",
      "language": "python",
      "name": "python3"
    }
  },
  "nbformat": 4,
  "nbformat_minor": 4
}