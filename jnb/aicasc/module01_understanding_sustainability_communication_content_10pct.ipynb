{
  "cells": [
    {
      "cell_type": "markdown",
      "metadata": {
        "id": "FsOKpBlkDfLb"
      },
      "source": [
        "# 1-1-2: Find online sustainability communication"
      ]
    },
    {
      "cell_type": "code",
      "metadata": {
        "id": "vLhjprRBDfLc"
      },
      "source": [
        "# https://www.google.com/"
      ],
      "execution_count": null,
      "outputs": []
    },
    {
      "cell_type": "markdown",
      "source": [
        "## Scraping organizational websites"
      ],
      "metadata": {
        "id": "yEu1WGqO8jJ0"
      }
    },
    {
      "cell_type": "code",
      "source": [
        "# https://www.shell.com/"
      ],
      "metadata": {
        "id": "zXXbWRyU8xAZ"
      },
      "execution_count": null,
      "outputs": []
    },
    {
      "cell_type": "markdown",
      "source": [
        "## Using contrasting organizations"
      ],
      "metadata": {
        "id": "nI5-x-pN83r2"
      }
    },
    {
      "cell_type": "code",
      "source": [
        "# https://www.shell.com/sustainability.html\n",
        "# https://www.worldwildlife.org/topics/sustainability"
      ],
      "metadata": {
        "id": "B9eAc27q9vA1"
      },
      "execution_count": null,
      "outputs": []
    },
    {
      "cell_type": "markdown",
      "source": [
        "## Capture web page content as PDF"
      ],
      "metadata": {
        "id": "ILYPdvCX9mZt"
      }
    },
    {
      "cell_type": "code",
      "source": [
        "# /tmp/comm/cca-project/org1-shell/sustainability-shell-global.pdf"
      ],
      "metadata": {
        "id": "h7_zRgU99xE2"
      },
      "execution_count": null,
      "outputs": []
    },
    {
      "cell_type": "markdown",
      "metadata": {
        "id": "DAGgfA_HDfLd"
      },
      "source": [
        "# 1-1-3: Setting up an initial content database"
      ]
    },
    {
      "cell_type": "code",
      "metadata": {
        "id": "RDaxAUDjDfLd"
      },
      "source": [
        "# single enclosing directory\n",
        "# /tmp/comm/cca-project/"
      ],
      "execution_count": null,
      "outputs": []
    },
    {
      "cell_type": "markdown",
      "source": [
        "## Organizing local directories"
      ],
      "metadata": {
        "id": "PgcLTiQ6-yfM"
      }
    },
    {
      "cell_type": "code",
      "source": [
        "# multiple subdirectories\n",
        "# /tmp/comm/cca-project/org1-shell\n",
        "# /tmp/comm/cca-project/org2-wwf"
      ],
      "metadata": {
        "id": "e589HJew-9VN"
      },
      "execution_count": null,
      "outputs": []
    },
    {
      "cell_type": "markdown",
      "source": [
        "## Making content available online"
      ],
      "metadata": {
        "id": "P9-sBeem_DaJ"
      }
    },
    {
      "cell_type": "code",
      "source": [
        "# upload to google drive or github\n",
        "# https://github.com/cca-cce/osm-cca-nlp"
      ],
      "metadata": {
        "id": "KuD8m60o-_Vj"
      },
      "execution_count": null,
      "outputs": []
    },
    {
      "cell_type": "markdown",
      "source": [
        "## Upload to Google Colab files"
      ],
      "metadata": {
        "id": "VSPQyE84_YnF"
      }
    },
    {
      "cell_type": "code",
      "source": [
        "# create zip file of project dir\n",
        "# zip -r cca-project.zip cca-project\n",
        "# upload and unzip\n",
        "!unzip cca-project.zip"
      ],
      "metadata": {
        "colab": {
          "base_uri": "https://localhost:8080/"
        },
        "id": "J433SCzv_ARx",
        "outputId": "5535ed1d-8ce5-4fbf-f1fd-95828ecd39c3"
      },
      "execution_count": null,
      "outputs": [
        {
          "output_type": "stream",
          "name": "stdout",
          "text": [
            "Archive:  cca-project.zip\n",
            "   creating: cca-project/\n",
            "  inflating: cca-project/mean_by_category.tsv  \n",
            "  inflating: cca-project/df.tsv      \n",
            "   creating: cca-project/org2-wwf/\n",
            "  inflating: cca-project/org2-wwf/sustainability-topics-wwf.pdf  \n",
            "   creating: cca-project/org1-shell/\n",
            "  inflating: cca-project/org1-shell/sustainability-shell-global.pdf  \n"
          ]
        }
      ]
    },
    {
      "cell_type": "code",
      "source": [],
      "metadata": {
        "id": "j7PHrwdlQjBM"
      },
      "execution_count": null,
      "outputs": []
    }
  ],
  "metadata": {
    "kernelspec": {
      "display_name": "Python 3",
      "language": "python",
      "name": "python3"
    },
    "colab": {
      "provenance": []
    }
  },
  "nbformat": 4,
  "nbformat_minor": 0
}