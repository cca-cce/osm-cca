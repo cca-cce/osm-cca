{
 "cells": [
  {
   "cell_type": "markdown",
   "metadata": {
    "id": "FsOKpBlkDfLb"
   },
   "source": [
    "# 1-1-2: Find online sustainability communication"
   ]
  },
  {
   "cell_type": "code",
   "execution_count": null,
   "metadata": {
    "id": "vLhjprRBDfLc"
   },
   "outputs": [],
   "source": [
    "# https://www.google.com/"
   ]
  },
  {
   "cell_type": "markdown",
   "metadata": {
    "id": "yEu1WGqO8jJ0"
   },
   "source": [
    "## Scraping organizational websites"
   ]
  },
  {
   "cell_type": "code",
   "execution_count": null,
   "metadata": {
    "id": "zXXbWRyU8xAZ"
   },
   "outputs": [],
   "source": [
    "# https://www.shell.com/"
   ]
  },
  {
   "cell_type": "markdown",
   "metadata": {
    "id": "nI5-x-pN83r2"
   },
   "source": [
    "## Using contrasting organizations"
   ]
  },
  {
   "cell_type": "code",
   "execution_count": null,
   "metadata": {
    "id": "B9eAc27q9vA1"
   },
   "outputs": [],
   "source": [
    "# https://www.shell.com/sustainability.html\n",
    "# https://www.worldwildlife.org/topics/sustainability"
   ]
  },
  {
   "cell_type": "markdown",
   "metadata": {
    "id": "ILYPdvCX9mZt"
   },
   "source": [
    "## Capture web page content as PDF"
   ]
  },
  {
   "cell_type": "code",
   "execution_count": null,
   "metadata": {
    "id": "h7_zRgU99xE2"
   },
   "outputs": [],
   "source": [
    "# /tmp/comm/cca-project/org1-shell/sustainability-shell-global.pdf"
   ]
  },
  {
   "cell_type": "markdown",
   "metadata": {
    "id": "DAGgfA_HDfLd"
   },
   "source": [
    "# 1-1-3: Setting up an initial content database"
   ]
  },
  {
   "cell_type": "code",
   "execution_count": null,
   "metadata": {
    "id": "RDaxAUDjDfLd"
   },
   "outputs": [],
   "source": [
    "# single enclosing directory (http://0.0.0.0:8000/)\n",
    "# /tmp/comm/cca-project/"
   ]
  },
  {
   "cell_type": "markdown",
   "metadata": {
    "id": "PgcLTiQ6-yfM"
   },
   "source": [
    "## Organizing local directories"
   ]
  },
  {
   "cell_type": "code",
   "execution_count": null,
   "metadata": {
    "id": "e589HJew-9VN"
   },
   "outputs": [],
   "source": [
    "# multiple subdirectories\n",
    "# /tmp/comm/cca-project/org1-shell\n",
    "# /tmp/comm/cca-project/org2-wwf"
   ]
  },
  {
   "cell_type": "markdown",
   "metadata": {
    "id": "P9-sBeem_DaJ"
   },
   "source": [
    "## Making content available online"
   ]
  },
  {
   "cell_type": "code",
   "execution_count": null,
   "metadata": {
    "id": "KuD8m60o-_Vj"
   },
   "outputs": [],
   "source": [
    "# upload to google drive or github\n",
    "# https://github.com/cca-cce/osm-cca-nlp"
   ]
  },
  {
   "cell_type": "markdown",
   "metadata": {
    "id": "VSPQyE84_YnF"
   },
   "source": [
    "## Upload to Google Colab files"
   ]
  },
  {
   "cell_type": "code",
   "execution_count": null,
   "metadata": {
    "colab": {
     "base_uri": "https://localhost:8080/"
    },
    "id": "J433SCzv_ARx",
    "outputId": "5535ed1d-8ce5-4fbf-f1fd-95828ecd39c3"
   },
   "outputs": [],
   "source": [
    "# create zip file of project dir\n",
    "# zip -r cca-project.zip cca-project\n",
    "# upload and unzip\n",
    "!unzip cca-project.zip"
   ]
  },
  {
   "cell_type": "code",
   "execution_count": null,
   "metadata": {
    "id": "j7PHrwdlQjBM"
   },
   "outputs": [],
   "source": []
  }
 ],
 "metadata": {
  "colab": {
   "provenance": []
  },
  "kernelspec": {
   "display_name": "Python 3",
   "language": "python",
   "name": "python3"
  }
 },
 "nbformat": 4,
 "nbformat_minor": 0
}
