{
  "cells": [
    {
      "cell_type": "markdown",
      "metadata": {},
      "source": [
        "---\n",
        "title: \"module01-understanding-sustainability-communication-content-10pct/1-1-3-computer-lab.qmd\"\n",
        "---\n",
        "\n",
        "\n",
        "## [1-1-3-computer-lab.qmd](1-1-3-computer-lab.qmd)\n"
      ]
    }
  ],
  "metadata": {
    "kernelspec": {
      "name": "python3",
      "language": "python",
      "display_name": "Python 3 (ipykernel)",
      "path": "/usr/local/share/jupyter/kernels/python3"
    }
  },
  "nbformat": 4,
  "nbformat_minor": 4
}