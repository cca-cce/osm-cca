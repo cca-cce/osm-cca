{
  "cells": [
    {
      "cell_type": "markdown",
      "metadata": {},
      "source": [
        "---\n",
        "title: \"Module 3: Analyzing text content with natural language processing\"\n",
        "subtitle: \"AI-aided content analysis of sustainability communication\"\n",
        "#author: \"nils.holmberg@iko.lu.se\"\n",
        "---\n",
        "\n",
        "## Lesson 3.1: Descriptive text analysis\n",
        "\n",
        "### [lab notebook](3-1-3-computer-lab-notebook.ipynb){target=\"_blank\"}\n",
        "\n",
        "### [lab video](video-url.mp4){target=\"_blank\"}\n",
        "\n",
        "### lab text\n"
      ]
    }
  ],
  "metadata": {
    "kernelspec": {
      "name": "python3",
      "language": "python",
      "display_name": "Python 3 (ipykernel)",
      "path": "/usr/local/share/jupyter/kernels/python3"
    }
  },
  "nbformat": 4,
  "nbformat_minor": 4
}