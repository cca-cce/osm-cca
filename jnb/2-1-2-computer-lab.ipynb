{
  "cells": [
    {
      "cell_type": "markdown",
      "metadata": {},
      "source": [
        "---\n",
        "title: \"module02-introduction-to-low-code-python-programming-20pct/2-1-2-computer-lab.qmd\"\n",
        "---\n",
        "\n",
        "## [the google colab notebook user interface](2-1-2-computer-lab.ipynb)"
      ]
    },
    {
      "cell_type": "code",
      "metadata": {},
      "source": [
        "# this is a python code cell.. also called a \"code chunk\"\n",
        "print(\"hello world !\")"
      ],
      "execution_count": null,
      "outputs": []
    },
    {
      "cell_type": "markdown",
      "metadata": {},
      "source": [
        "# annotations\n",
        "\n",
        "this is a markdown text cell used to annotate and describe the code cell below"
      ]
    },
    {
      "cell_type": "code",
      "metadata": {},
      "source": [
        "# this is a python comment explaining the code line below\n",
        "print(\"hello mooc :)\")"
      ],
      "execution_count": null,
      "outputs": []
    },
    {
      "cell_type": "markdown",
      "metadata": {},
      "source": [
        "# more user actions\n",
        "\n",
        "1. **Create a code cell**: Insert a new cell to write and execute Python code.\n",
        "2. **Create a text cell**: Insert a markdown cell to add notes, explanations, or documentation.\n",
        "3. **Upload files**: Upload local files to the Colab environment for use in your notebook.\n",
        "4. **Mount Google Drive**: Connect and access your Google Drive files directly from Colab.\n",
        "5. **Run code cells**: Execute the code within a cell and see the output below it.\n",
        "6. **Save notebook to Google Drive**: Automatically save your notebook to Google Drive for easy access.\n",
        "7. **Download notebook as .ipynb**: Download your notebook in Jupyter notebook format.\n",
        "8. **Download notebook as .py**: Export your notebook as a Python script.\n",
        "9. **Share notebook**: Share the notebook with others, allowing for collaboration and viewing.\n",
        "10. **Access GPU/TPU runtime**: Switch to GPU or TPU for faster computations when dealing with large datasets or deep learning models.\n",
        "11. **Install Python packages**: Use `pip` or `apt-get` to install additional Python libraries or system packages.\n",
        "12. **View execution history**: Check the execution history of each cell and its outputs.\n",
        "13. **Clear all outputs**: Remove all outputs in the notebook to declutter the interface.\n",
        "14. **Restart runtime**: Reset the runtime environment to start fresh without previous variables and data.\n",
        "15. **Connect to runtime**: Manually connect or reconnect to a runtime instance to execute the notebook.\n"
      ]
    }
  ],
  "metadata": {
    "kernelspec": {
      "name": "python3",
      "language": "python",
      "display_name": "Python 3 (ipykernel)",
      "path": "/usr/local/share/jupyter/kernels/python3"
    }
  },
  "nbformat": 4,
  "nbformat_minor": 4
}