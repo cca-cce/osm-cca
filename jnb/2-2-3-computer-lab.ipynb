{
  "cells": [
    {
      "cell_type": "markdown",
      "metadata": {},
      "source": [
        "---\n",
        "title: \"module02-introduction-to-low-code-python-programming-20pct/2-2-3-computer-lab.qmd\"\n",
        "---\n",
        "\n",
        "## [2-2-3-computer-lab.qmd](2-2-3-computer-lab.qmd)\n"
      ]
    }
  ],
  "metadata": {
    "kernelspec": {
      "name": "python3",
      "language": "python",
      "display_name": "Python 3 (ipykernel)",
      "path": "/usr/local/share/jupyter/kernels/python3"
    }
  },
  "nbformat": 4,
  "nbformat_minor": 4
}