{
  "cells": [
    {
      "cell_type": "markdown",
      "metadata": {},
      "source": [
        "---\n",
        "title: \"module04-analyzing-image-content-computer-vision-30pct\"\n",
        "subtitle: \"ai-aided-content-analysis-of-sustainability-communication\"\n",
        "---\n",
        "\n",
        "## 4-1-3-computer-lab.qmd\n",
        "---\n"
      ]
    }
  ],
  "metadata": {
    "kernelspec": {
      "name": "python3",
      "language": "python",
      "display_name": "Python 3 (ipykernel)",
      "path": "/usr/local/share/jupyter/kernels/python3"
    }
  },
  "nbformat": 4,
  "nbformat_minor": 4
}